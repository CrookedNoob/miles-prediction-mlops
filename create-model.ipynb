{
 "cells": [
  {
   "cell_type": "code",
   "execution_count": 94,
   "metadata": {},
   "outputs": [],
   "source": [
    "import pandas as pd\n",
    "import numpy as np\n",
    "\n",
    "from sklearn.model_selection import train_test_split\n",
    "from sklearn.linear_model import Ridge\n",
    "from sklearn.metrics import mean_squared_error\n",
    "\n",
    "import pickle"
   ]
  },
  {
   "cell_type": "code",
   "execution_count": 88,
   "metadata": {},
   "outputs": [],
   "source": [
    "class FixDatafarme:\n",
    "    \n",
    "    def __init__(self, path:str):\n",
    "         self.path = path\n",
    "         self.df = pd.read_csv(path)\n",
    "\n",
    "    def remove_columns(self, col_names:list):\n",
    "        self.df = self.df.drop(col_names, axis=1)\n",
    "        return self.df\n",
    "\n",
    "    def fix_col_names(self):\n",
    "        cols = []\n",
    "        for col in list(self.df.columns):\n",
    "            cols.append(col.lower().replace(\" \", \"_\"))\n",
    "        self.df.columns = cols\n",
    "        return self.df\n",
    "\n",
    "    def impute_missing(self):\n",
    "        self.cols = self.df.columns\n",
    "        self.df = self.df[self.cols]\n",
    "        self.df[self.cols] = self.df[self.cols].apply(pd.to_numeric, errors='coerce')\n",
    "        for col in self.cols:\n",
    "            if self.df[col].dtype != \"object\":\n",
    "                #self.df[col] = self.df[col].apply(pd.to_numeric, errors='coerce')\n",
    "                self.df[col].fillna(self.df[col].median(), inplace=True)\n",
    "\n",
    "    def return_df(self):\n",
    "        return self.df"
   ]
  },
  {
   "cell_type": "code",
   "execution_count": 89,
   "metadata": {},
   "outputs": [],
   "source": [
    "fd = FixDatafarme(\"./auto-mpg.csv\")\n",
    "fd.remove_columns([\"Unnamed: 9\", \"car name\"])\n",
    "fd.fix_col_names()\n",
    "fd.impute_missing()\n",
    "df = fd.return_df()\n"
   ]
  },
  {
   "cell_type": "code",
   "execution_count": 102,
   "metadata": {},
   "outputs": [],
   "source": [
    "class PredictionModel:\n",
    "    \n",
    "    def __init__(self, data, alpha):\n",
    "        self.data = data\n",
    "        self.alpha = alpha\n",
    "\n",
    "    def model_fit(self):\n",
    "        self.model = Ridge(alpha=self.alpha)\n",
    "        self.X_train = self.data.drop(columns=[\"mpg\"], axis=1)\n",
    "        self.Y_train = self.data[\"mpg\"]\n",
    "        self.model.fit(self.X_train, self.Y_train)\n",
    "        self.pred_op = self.model.predict(self.X_train)\n",
    "\n",
    "        self.mse = mean_squared_error(self.Y_train, self.pred_op, squared=False)\n",
    "\n",
    "        with open(f\"ridge_auto_mse-{np.round(self.mse, 3)}.bin\", \"wb\") as f_out:\n",
    "            pickle.dump(self.model, f_out)\n",
    "        return self.mse"
   ]
  },
  {
   "cell_type": "code",
   "execution_count": 103,
   "metadata": {},
   "outputs": [
    {
     "data": {
      "text/plain": [
       "3.2933011409318067"
      ]
     },
     "execution_count": 103,
     "metadata": {},
     "output_type": "execute_result"
    }
   ],
   "source": [
    "model = PredictionModel(df, 0.5)\n",
    "\n",
    "model.model_fit()"
   ]
  },
  {
   "cell_type": "code",
   "execution_count": 51,
   "metadata": {},
   "outputs": [
    {
     "name": "stdout",
     "output_type": "stream",
     "text": [
      "<class 'pandas.core.frame.DataFrame'>\n",
      "RangeIndex: 398 entries, 0 to 397\n",
      "Data columns (total 9 columns):\n",
      " #   Column        Non-Null Count  Dtype  \n",
      "---  ------        --------------  -----  \n",
      " 0   mpg           398 non-null    float64\n",
      " 1   cylinders     398 non-null    int64  \n",
      " 2   displacement  398 non-null    float64\n",
      " 3   horsepower    398 non-null    object \n",
      " 4   weight        398 non-null    float64\n",
      " 5   acceleration  398 non-null    float64\n",
      " 6   model_year    398 non-null    float64\n",
      " 7   origin        398 non-null    int64  \n",
      " 8   car_name      398 non-null    object \n",
      "dtypes: float64(5), int64(2), object(2)\n",
      "memory usage: 28.1+ KB\n"
     ]
    }
   ],
   "source": []
  },
  {
   "cell_type": "code",
   "execution_count": null,
   "metadata": {},
   "outputs": [],
   "source": []
  }
 ],
 "metadata": {
  "kernelspec": {
   "display_name": "mlhome",
   "language": "python",
   "name": "python3"
  },
  "language_info": {
   "codemirror_mode": {
    "name": "ipython",
    "version": 3
   },
   "file_extension": ".py",
   "mimetype": "text/x-python",
   "name": "python",
   "nbconvert_exporter": "python",
   "pygments_lexer": "ipython3",
   "version": "3.10.8"
  },
  "orig_nbformat": 4,
  "vscode": {
   "interpreter": {
    "hash": "cea564be740ea5177ba7130e319cd5439b11d0dccc8ef846cb55b933a19fe532"
   }
  }
 },
 "nbformat": 4,
 "nbformat_minor": 2
}
